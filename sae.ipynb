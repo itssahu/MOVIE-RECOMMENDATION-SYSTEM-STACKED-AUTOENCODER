{
 "cells": [
  {
   "cell_type": "markdown",
   "metadata": {
    "id": "r_T6DwmhLeEU"
   },
   "source": [
    "# Movies recommender system :Stacked AutoEncoders"
   ]
  },
  {
   "cell_type": "markdown",
   "metadata": {
    "id": "mRfllOFCeNIe"
   },
   "source": [
    "## Importing the libraries"
   ]
  },
  {
   "cell_type": "code",
   "execution_count": null,
   "metadata": {
    "id": "ZVdzTkqHehem"
   },
   "outputs": [],
   "source": [
    "import numpy as np\n",
    "import pandas as pd\n",
    "import torch\n",
    "import torch.nn as nn\n",
    "import torch.nn.parallel\n",
    "import torch.optim as optim\n",
    "import torch.utils.data\n",
    "from torch.autograd import Variable\n"
   ]
  },
  {
   "cell_type": "markdown",
   "metadata": {
    "id": "ncWa_a4Zek9k"
   },
   "source": [
    "## Importing the dataset"
   ]
  },
  {
   "cell_type": "code",
   "execution_count": null,
   "metadata": {
    "id": "bvcjT5Uqeqrj"
   },
   "outputs": [],
   "source": [
    "moviepath=r\"path\\ml-1m\\movies.dat\"\n",
    "userpath=r\"path\\ml-1m\\users.dat\"\n",
    "ratingpath=r\"path\\ml-1m\\ratings.dat\"\n",
    "movies = pd.read_csv(moviepath, sep = '::', header = None, engine = 'python', encoding = 'latin-1')\n",
    "users = pd.read_csv(userpath, sep = '::', header = None, engine = 'python', encoding = 'latin-1')\n",
    "ratings = pd.read_csv(ratingpath, sep = '::', header = None, engine = 'python', encoding = 'latin-1')\n"
   ]
  },
  {
   "cell_type": "markdown",
   "metadata": {
    "id": "VxJyeJVSeuYF"
   },
   "source": [
    "## Preparing the training set and the test set"
   ]
  },
  {
   "cell_type": "code",
   "execution_count": null,
   "metadata": {
    "id": "bXy3oK_5e26x"
   },
   "outputs": [],
   "source": [
    "trainpath=r\"path\\ml-100k\\u1.base\"\n",
    "testpath=r\"path\\ml-100k\\u1.test\"\n",
    "training_set = pd.read_csv(trainpath, delimiter = '\\t')\n",
    "training_set = np.array(training_set, dtype = 'int')\n",
    "test_set = pd.read_csv(testpath, delimiter = '\\t')\n",
    "test_set = np.array(test_set, dtype = 'int')\n"
   ]
  },
  {
   "cell_type": "markdown",
   "metadata": {
    "id": "t6AZsqV0fBth"
   },
   "source": [
    "## Getting the number of users and movies"
   ]
  },
  {
   "cell_type": "code",
   "execution_count": null,
   "metadata": {
    "id": "pjYBgQJ4fHXp"
   },
   "outputs": [],
   "source": [
    "nb_users = int(max(max(training_set[:,0]), max(test_set[:,0])))\n",
    "nb_movies = int(max(max(training_set[:,1]), max(test_set[:,1])))\n"
   ]
  },
  {
   "cell_type": "markdown",
   "metadata": {
    "id": "BduAm9XTfJ5M"
   },
   "source": [
    "## Converting the data into an array with users in lines and movies in columns"
   ]
  },
  {
   "cell_type": "code",
   "execution_count": null,
   "metadata": {
    "id": "2hvNwdPwfNJa"
   },
   "outputs": [],
   "source": [
    "def convert(data):\n",
    "    new_data = []\n",
    "    for id_users in range(1, nb_users + 1):\n",
    "        id_movies = data[:,1][data[:,0] == id_users]\n",
    "        id_ratings = data[:,2][data[:,0] == id_users]\n",
    "        ratings = np.zeros(nb_movies)\n",
    "        ratings[id_movies - 1] = id_ratings\n",
    "        new_data.append(list(ratings))\n",
    "    return new_data\n",
    "training_set = convert(training_set)\n",
    "test_set = convert(test_set)\n"
   ]
  },
  {
   "cell_type": "markdown",
   "metadata": {
    "id": "eDMTdRohfca9"
   },
   "source": [
    "## Converting the data into Torch tensors"
   ]
  },
  {
   "cell_type": "code",
   "execution_count": null,
   "metadata": {
    "id": "dCrtcCCqfgNc"
   },
   "outputs": [],
   "source": [
    "training_set = torch.FloatTensor(training_set)\n",
    "test_set = torch.FloatTensor(test_set)\n"
   ]
  },
  {
   "cell_type": "markdown",
   "metadata": {
    "id": "68DIciQ1fifc"
   },
   "source": [
    "## Creating the architecture of the Neural Network"
   ]
  },
  {
   "cell_type": "code",
   "execution_count": null,
   "metadata": {
    "id": "U3JKRMIXfmTr"
   },
   "outputs": [],
   "source": [
    "class SAE(nn.Module):\n",
    "    def __init__(self, ):\n",
    "        super(SAE, self).__init__()\n",
    "        self.fc1 = nn.Linear(nb_movies, 20)\n",
    "        self.fc2 = nn.Linear(20, 10)\n",
    "        self.fc3 = nn.Linear(10, 20)\n",
    "        self.fc4 = nn.Linear(20, nb_movies)\n",
    "        self.activation = nn.Sigmoid()\n",
    "    def forward(self, x):\n",
    "        x = self.activation(self.fc1(x))\n",
    "        x = self.activation(self.fc2(x))\n",
    "        x = self.activation(self.fc3(x))\n",
    "        x = self.fc4(x)\n",
    "        return x\n",
    "sae = SAE()\n",
    "criterion = nn.MSELoss()\n",
    "optimizer = optim.RMSprop(sae.parameters(), lr = 0.01, weight_decay = 0.5)\n"
   ]
  },
  {
   "cell_type": "markdown",
   "metadata": {
    "id": "Zn8Zl34Ofpe_"
   },
   "source": [
    "## Training the SAE"
   ]
  },
  {
   "cell_type": "code",
   "execution_count": null,
   "metadata": {
    "colab": {
     "base_uri": "https://localhost:8080/",
     "height": 233
    },
    "executionInfo": {
     "elapsed": 427,
     "status": "error",
     "timestamp": 1727886369476,
     "user": {
      "displayName": "Hadelin de Ponteves",
      "userId": "15047218817161520419"
     },
     "user_tz": -240
    },
    "id": "89ACdnopfwrG",
    "outputId": "a1843411-22aa-4816-ca7b-513929b2f28e"
   },
   "outputs": [
    {
     "name": "stdout",
     "output_type": "stream",
     "text": [
      "epoch: 1 loss: 1.7651202128498944\n",
      "epoch: 2 loss: 1.0965547060884973\n",
      "epoch: 3 loss: 1.053346048910657\n",
      "epoch: 4 loss: 1.0383756667892312\n",
      "epoch: 5 loss: 1.030745903304824\n",
      "epoch: 6 loss: 1.0265410746177421\n",
      "epoch: 7 loss: 1.0235450251121503\n",
      "epoch: 8 loss: 1.0218952797266574\n",
      "epoch: 9 loss: 1.020714282884316\n",
      "epoch: 10 loss: 1.0195700551415772\n",
      "epoch: 11 loss: 1.0188920558897931\n",
      "epoch: 12 loss: 1.0182781655431228\n",
      "epoch: 13 loss: 1.0177885414143835\n",
      "epoch: 14 loss: 1.017572395628434\n",
      "epoch: 15 loss: 1.0172193223506945\n",
      "epoch: 16 loss: 1.016908529402355\n",
      "epoch: 17 loss: 1.0169711995987787\n",
      "epoch: 18 loss: 1.0164122333158467\n",
      "epoch: 19 loss: 1.0162197373422122\n",
      "epoch: 20 loss: 1.0160201386374903\n",
      "epoch: 21 loss: 1.0161780388269923\n",
      "epoch: 22 loss: 1.0159066135265975\n",
      "epoch: 23 loss: 1.0158699697290294\n",
      "epoch: 24 loss: 1.015484227619337\n",
      "epoch: 25 loss: 1.0157329698491815\n",
      "epoch: 26 loss: 1.0156848109931396\n",
      "epoch: 27 loss: 1.015410651486467\n",
      "epoch: 28 loss: 1.0151204988229978\n",
      "epoch: 29 loss: 1.012934373369784\n",
      "epoch: 30 loss: 1.0112604815194817\n",
      "epoch: 31 loss: 1.0105800492006345\n",
      "epoch: 32 loss: 1.0079117525851833\n",
      "epoch: 33 loss: 1.007517099387411\n",
      "epoch: 34 loss: 1.0035199405668727\n",
      "epoch: 35 loss: 1.0033052341121558\n",
      "epoch: 36 loss: 0.9995917621216384\n",
      "epoch: 37 loss: 0.9993497664983556\n",
      "epoch: 38 loss: 0.9961044837891612\n",
      "epoch: 39 loss: 0.9934989234528717\n",
      "epoch: 40 loss: 0.9909674033887883\n",
      "epoch: 41 loss: 0.9938065323866241\n",
      "epoch: 42 loss: 0.9924091788509101\n",
      "epoch: 43 loss: 0.9918400669631231\n",
      "epoch: 44 loss: 0.9870048562029082\n",
      "epoch: 45 loss: 0.989143525731481\n",
      "epoch: 46 loss: 0.9854929480836033\n",
      "epoch: 47 loss: 0.9838199175569367\n",
      "epoch: 48 loss: 0.9807696486868418\n",
      "epoch: 49 loss: 0.9818432632917008\n",
      "epoch: 50 loss: 0.9790406487375151\n",
      "epoch: 51 loss: 0.9795176645662957\n",
      "epoch: 52 loss: 0.9786450388994605\n",
      "epoch: 53 loss: 0.9776563669791324\n",
      "epoch: 54 loss: 0.9775833604069645\n",
      "epoch: 55 loss: 0.9777725141887288\n",
      "epoch: 56 loss: 0.9772211492516969\n",
      "epoch: 57 loss: 0.9776640510845057\n",
      "epoch: 58 loss: 0.9718333547477012\n",
      "epoch: 59 loss: 0.9712020852462546\n",
      "epoch: 60 loss: 0.9674035223593785\n",
      "epoch: 61 loss: 0.9689897779497417\n",
      "epoch: 62 loss: 0.9663965304435335\n",
      "epoch: 63 loss: 0.9663983396085052\n",
      "epoch: 64 loss: 0.9618255778706704\n",
      "epoch: 65 loss: 0.9620935143101403\n",
      "epoch: 66 loss: 0.9588950893550684\n",
      "epoch: 67 loss: 0.9581544764141603\n",
      "epoch: 68 loss: 0.9547950822749252\n",
      "epoch: 69 loss: 0.9568364706489937\n",
      "epoch: 70 loss: 0.9557237487016249\n",
      "epoch: 71 loss: 0.9544204607664981\n",
      "epoch: 72 loss: 0.9527477648144622\n",
      "epoch: 73 loss: 0.9502740715137554\n",
      "epoch: 74 loss: 0.9520391408984458\n",
      "epoch: 75 loss: 0.952131358156402\n",
      "epoch: 76 loss: 0.9496050496537201\n",
      "epoch: 77 loss: 0.9511118248829502\n",
      "epoch: 78 loss: 0.9494599450892495\n",
      "epoch: 79 loss: 0.9494817283734974\n",
      "epoch: 80 loss: 0.9483495431014053\n",
      "epoch: 81 loss: 0.9477066101444959\n",
      "epoch: 82 loss: 0.9459360017693694\n",
      "epoch: 83 loss: 0.9457138308936366\n",
      "epoch: 84 loss: 0.9442815481784856\n",
      "epoch: 85 loss: 0.9449814446026513\n",
      "epoch: 86 loss: 0.9427340861801952\n",
      "epoch: 87 loss: 0.940895373472532\n",
      "epoch: 88 loss: 0.9413669929356143\n",
      "epoch: 89 loss: 0.9427320568867529\n",
      "epoch: 90 loss: 0.9403674819893242\n",
      "epoch: 91 loss: 0.9408999767725242\n",
      "epoch: 92 loss: 0.9388974795851963\n",
      "epoch: 93 loss: 0.939762599601296\n",
      "epoch: 94 loss: 0.9377886539724238\n",
      "epoch: 95 loss: 0.9392015993351892\n",
      "epoch: 96 loss: 0.9384166552828457\n",
      "epoch: 97 loss: 0.9391448210789014\n",
      "epoch: 98 loss: 0.9365993622383589\n",
      "epoch: 99 loss: 0.9370675820889989\n",
      "epoch: 100 loss: 0.9351801811647782\n",
      "epoch: 101 loss: 0.9359353759910203\n",
      "epoch: 102 loss: 0.9340948905328569\n",
      "epoch: 103 loss: 0.9348214947456731\n",
      "epoch: 104 loss: 0.9334391114377575\n",
      "epoch: 105 loss: 0.9341371954215906\n",
      "epoch: 106 loss: 0.9323367469465617\n",
      "epoch: 107 loss: 0.9337374494296959\n",
      "epoch: 108 loss: 0.9312274224439445\n",
      "epoch: 109 loss: 0.9324619682290661\n",
      "epoch: 110 loss: 0.9310784337621757\n",
      "epoch: 111 loss: 0.9319984951915433\n",
      "epoch: 112 loss: 0.9302386676600282\n",
      "epoch: 113 loss: 0.93072742729364\n",
      "epoch: 114 loss: 0.9292632537848572\n",
      "epoch: 115 loss: 0.929889478505138\n",
      "epoch: 116 loss: 0.9280790437584525\n",
      "epoch: 117 loss: 0.9299660849517283\n",
      "epoch: 118 loss: 0.9282303334707547\n",
      "epoch: 119 loss: 0.929056825402665\n",
      "epoch: 120 loss: 0.9275225749396958\n",
      "epoch: 121 loss: 0.9289208148964982\n",
      "epoch: 122 loss: 0.927392940942187\n",
      "epoch: 123 loss: 0.9284121361559395\n",
      "epoch: 124 loss: 0.9265523972289434\n",
      "epoch: 125 loss: 0.9271230791291828\n",
      "epoch: 126 loss: 0.925872325770826\n",
      "epoch: 127 loss: 0.9271604905298397\n",
      "epoch: 128 loss: 0.9250088361791485\n",
      "epoch: 129 loss: 0.9258682360070521\n",
      "epoch: 130 loss: 0.9246555522647636\n",
      "epoch: 131 loss: 0.9257323277476814\n",
      "epoch: 132 loss: 0.9234828566963399\n",
      "epoch: 133 loss: 0.924446895747163\n",
      "epoch: 134 loss: 0.923212248368524\n",
      "epoch: 135 loss: 0.9241383340586813\n",
      "epoch: 136 loss: 0.9230246978795379\n",
      "epoch: 137 loss: 0.9238236199423197\n",
      "epoch: 138 loss: 0.922811811645332\n",
      "epoch: 139 loss: 0.9238128850642101\n",
      "epoch: 140 loss: 0.9226456218115835\n",
      "epoch: 141 loss: 0.9233552867071024\n",
      "epoch: 142 loss: 0.9216856080428701\n",
      "epoch: 143 loss: 0.9221550697041048\n",
      "epoch: 144 loss: 0.9208184108726548\n",
      "epoch: 145 loss: 0.9217549718873083\n",
      "epoch: 146 loss: 0.9201630634425337\n",
      "epoch: 147 loss: 0.9216305199486079\n",
      "epoch: 148 loss: 0.9202065622852105\n",
      "epoch: 149 loss: 0.9214102131453464\n",
      "epoch: 150 loss: 0.9197577338532018\n",
      "epoch: 151 loss: 0.9202539071903624\n",
      "epoch: 152 loss: 0.9201269530938965\n",
      "epoch: 153 loss: 0.9198449757786028\n",
      "epoch: 154 loss: 0.9190990379913874\n",
      "epoch: 155 loss: 0.9198139498986034\n",
      "epoch: 156 loss: 0.9184828704025214\n",
      "epoch: 157 loss: 0.9188879711307338\n",
      "epoch: 158 loss: 0.9177516420540377\n",
      "epoch: 159 loss: 0.9186146181941682\n",
      "epoch: 160 loss: 0.9180944489765622\n",
      "epoch: 161 loss: 0.9183551140518104\n",
      "epoch: 162 loss: 0.9176843092042919\n",
      "epoch: 163 loss: 0.9182104668241098\n",
      "epoch: 164 loss: 0.917322478760561\n",
      "epoch: 165 loss: 0.9179119514181233\n",
      "epoch: 166 loss: 0.9170193112752707\n",
      "epoch: 167 loss: 0.9180800221509816\n",
      "epoch: 168 loss: 0.9167783345398117\n",
      "epoch: 169 loss: 0.9175078384342991\n",
      "epoch: 170 loss: 0.9165083184681836\n",
      "epoch: 171 loss: 0.9173709946600537\n",
      "epoch: 172 loss: 0.9161644351740545\n",
      "epoch: 173 loss: 0.9163736712870053\n",
      "epoch: 174 loss: 0.9156077589327313\n",
      "epoch: 175 loss: 0.9159818696880739\n",
      "epoch: 176 loss: 0.915394242191929\n",
      "epoch: 177 loss: 0.9163249933809117\n",
      "epoch: 178 loss: 0.9152357173805779\n",
      "epoch: 179 loss: 0.9159707379216148\n",
      "epoch: 180 loss: 0.9147102612703335\n",
      "epoch: 181 loss: 0.9152893017681981\n",
      "epoch: 182 loss: 0.9144291650842706\n",
      "epoch: 183 loss: 0.9149666920654155\n",
      "epoch: 184 loss: 0.914071056573819\n",
      "epoch: 185 loss: 0.9149344294105096\n",
      "epoch: 186 loss: 0.9142521846313736\n",
      "epoch: 187 loss: 0.9147832485803361\n",
      "epoch: 188 loss: 0.9140773056351053\n",
      "epoch: 189 loss: 0.9142978684715523\n",
      "epoch: 190 loss: 0.9135823659342839\n",
      "epoch: 191 loss: 0.9142633995821489\n",
      "epoch: 192 loss: 0.9137625798302912\n",
      "epoch: 193 loss: 0.9139284066065155\n",
      "epoch: 194 loss: 0.913358768896318\n",
      "epoch: 195 loss: 0.9134662503871344\n",
      "epoch: 196 loss: 0.9131082169663418\n",
      "epoch: 197 loss: 0.9134830975221339\n",
      "epoch: 198 loss: 0.9130697605430236\n",
      "epoch: 199 loss: 0.9134201266091404\n",
      "epoch: 200 loss: 0.9127133415335628\n"
     ]
    }
   ],
   "source": [
    "nb_epoch = 200\n",
    "for epoch in range(1, nb_epoch + 1):\n",
    "    train_loss = 0\n",
    "    s = 0.\n",
    "    for id_user in range(nb_users):\n",
    "        input = Variable(training_set[id_user]).unsqueeze(0)\n",
    "        target = input.clone()\n",
    "        if torch.sum(target.data > 0) > 0:\n",
    "            output = sae(input)\n",
    "            target.require_grad = False\n",
    "            output[target == 0] = 0\n",
    "            loss = criterion(output, target)\n",
    "            mean_corrector = nb_movies/float(torch.sum(target.data > 0) + 1e-10)\n",
    "            loss.backward()\n",
    "            train_loss += np.sqrt(loss.item()*mean_corrector)\n",
    "            s += 1.\n",
    "            optimizer.step()\n",
    "    print('epoch: '+str(epoch)+' loss: '+str(train_loss/s))\n"
   ]
  },
  {
   "cell_type": "markdown",
   "metadata": {
    "id": "BYTV81Yif0Sc"
   },
   "source": [
    "## Testing the SAE"
   ]
  },
  {
   "cell_type": "code",
   "execution_count": null,
   "metadata": {
    "colab": {
     "base_uri": "https://localhost:8080/"
    },
    "executionInfo": {
     "elapsed": 396,
     "status": "ok",
     "timestamp": 1727887501968,
     "user": {
      "displayName": "Hadelin de Ponteves",
      "userId": "15047218817161520419"
     },
     "user_tz": -240
    },
    "id": "v5_mJJscf3oj",
    "outputId": "5b187cc8-6463-4bd1-a662-68ee051c8c66"
   },
   "outputs": [
    {
     "name": "stdout",
     "output_type": "stream",
     "text": [
      "test loss: tensor(0.9476)\n"
     ]
    }
   ],
   "source": [
    "test_loss = 0\n",
    "s = 0.\n",
    "for id_user in range(nb_users):\n",
    "    input = Variable(training_set[id_user]).unsqueeze(0)\n",
    "    target = Variable(test_set[id_user]).unsqueeze(0)\n",
    "    if torch.sum(target.data > 0) > 0:\n",
    "        output = sae(input)\n",
    "        target.require_grad = False\n",
    "        output[target == 0] = 0\n",
    "        loss = criterion(output, target)\n",
    "        mean_corrector = nb_movies/float(torch.sum(target.data > 0) + 1e-10)\n",
    "        test_loss += np.sqrt(loss.data*mean_corrector)\n",
    "        s += 1.\n",
    "print('test loss: '+str(test_loss/s))\n"
   ]
  }
 ],
 "metadata": {
  "colab": {
   "authorship_tag": "ABX9TyPHwJAy8eaK0rxUHsVrbtUp",
   "provenance": []
  },
  "kernelspec": {
   "display_name": "Python 3",
   "name": "python3"
  },
  "language_info": {
   "codemirror_mode": {
    "name": "ipython",
    "version": 3
   },
   "file_extension": ".py",
   "mimetype": "text/x-python",
   "name": "python",
   "nbconvert_exporter": "python",
   "pygments_lexer": "ipython3",
   "version": "3.12.1"
  }
 },
 "nbformat": 4,
 "nbformat_minor": 0
}
